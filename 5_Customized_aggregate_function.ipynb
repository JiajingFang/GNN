{
 "cells": [
  {
   "cell_type": "code",
   "execution_count": 3,
   "id": "a75d67a5",
   "metadata": {},
   "outputs": [
    {
     "name": "stderr",
     "output_type": "stream",
     "text": [
      "/home/kris/anaconda3/envs/GNN/lib/python3.8/site-packages/tqdm/auto.py:22: TqdmWarning: IProgress not found. Please update jupyter and ipywidgets. See https://ipywidgets.readthedocs.io/en/stable/user_install.html\n",
      "  from .autonotebook import tqdm as notebook_tqdm\n"
     ]
    }
   ],
   "source": [
    "import torch\n",
    "from torch.nn import Linear, Parameter\n",
    "from torch_geometric.nn import MessagePassing\n",
    "from torch_geometric.utils import degree, add_self_loops\n",
    "from torch_scatter import scatter"
   ]
  },
  {
   "cell_type": "markdown",
   "id": "e9d79e5f",
   "metadata": {},
   "source": [
    "<!-- The GCN layer is defined as:\n",
    "$$ x_{i}^{k} = \\sum_{j \\in N(i) \\cup {i}} \\dfrac{1}{\\sqrt{deg(i)} \\sqrt{deg(j)}} (W^{T} x_{j}^{k-1} + b)$$\n",
    "\n",
    "Step:  \n",
    "1.Add self-loops   \n",
    "2.Linear transform node feature matrix(y = Wx)  \n",
    "3.Compute coefficients (the deg part)  \n",
    "4.Normalize passing node features in message function  \n",
    "5.Sum up neighboring node features (\"add\")  \n",
    "6.Add bias vector\n",
    "\n",
    " -->\n",
    " Customized aggregate function so than inputs value < 1 are ignored"
   ]
  },
  {
   "cell_type": "code",
   "execution_count": 25,
   "id": "a6067d6e",
   "metadata": {},
   "outputs": [],
   "source": [
    "class GCNConv(MessagePassing):\n",
    "    def __init__(self, in_channels, out_channels):\n",
    "        super().__init__() #step 5\n",
    "        self.lin = Linear(in_channels, out_channels, bias=False)\n",
    "        self.bias = Parameter(torch.Tensor(out_channels))\n",
    "        \n",
    "        self.reset_parameters()\n",
    "        \n",
    "    def reset_parameters(self):\n",
    "        self.lin.reset_parameters()\n",
    "        self.bias.data.zero_()\n",
    "        \n",
    "    def forward(self, x, edge_index):\n",
    "        #step 1\n",
    "        edge_index, _ = add_self_loops(edge_index, num_nodes=x.size(0))\n",
    "        #step 2\n",
    "        x = self.lin(x)\n",
    "        #step 3\n",
    "        inpoints, outpoints = edge_index[0], edge_index[1]\n",
    "        deg = degree(inpoints, x.size(0), dtype=x.dtype)\n",
    "        deg_inv_sqrt = deg.pow(-0.5)\n",
    "        deg_inv_sqrt[deg_inv_sqrt == float('inf')] = 0\n",
    "        norm = deg_inv_sqrt[inpoints] * deg_inv_sqrt[outpoints]\n",
    "        #step 4 and 5\n",
    "        out = self.propagate(edge_index, x=x, norm=norm)\n",
    "        #step 6\n",
    "        out += self.bias\n",
    "        \n",
    "        return out\n",
    "    \n",
    "    def message(self, x_j, norm):\n",
    "        return norm.view(-1,1) * x_j"
   ]
  },
  {
   "cell_type": "code",
   "execution_count": 26,
   "id": "bf435c5c",
   "metadata": {},
   "outputs": [],
   "source": [
    "class GCNConvnew(MessagePassing):\n",
    "    def __init__(self, in_channels, out_channels):\n",
    "        super().__init__() #step 5\n",
    "        self.lin = Linear(in_channels, out_channels, bias=False)\n",
    "        self.bias = Parameter(torch.Tensor(out_channels))\n",
    "        \n",
    "        self.reset_parameters()\n",
    "        \n",
    "    def reset_parameters(self):\n",
    "        self.lin.reset_parameters()\n",
    "        self.bias.data.zero_()\n",
    "        \n",
    "    def forward(self, x, edge_index):\n",
    "        #step 1\n",
    "        edge_index, _ = add_self_loops(edge_index, num_nodes=x.size(0))\n",
    "        #step 2\n",
    "        x = self.lin(x)\n",
    "        #step 3\n",
    "        inpoints, outpoints = edge_index[0], edge_index[1]\n",
    "        deg = degree(inpoints, x.size(0), dtype=x.dtype)\n",
    "        deg_inv_sqrt = deg.pow(-0.5)\n",
    "        deg_inv_sqrt[deg_inv_sqrt == float('inf')] = 0\n",
    "        norm = deg_inv_sqrt[inpoints] * deg_inv_sqrt[outpoints]\n",
    "        #step 4 and 5\n",
    "        out = self.propagate(edge_index, x=x, norm=norm)\n",
    "        #step 6\n",
    "        out += self.bias\n",
    "        \n",
    "        return out\n",
    "    \n",
    "    def message(self, x_j, norm):\n",
    "        return norm.view(-1,1) * x_j\n",
    "    def aggregate(self, inputs, index):\n",
    "        inputs[inputs==torch.clamp(inputs, -1, 1)] = 0\n",
    "        return scatter(inputs, index, dim=0, reduce=\"sum\")"
   ]
  },
  {
   "cell_type": "code",
   "execution_count": 27,
   "id": "5711c601",
   "metadata": {},
   "outputs": [
    {
     "name": "stdout",
     "output_type": "stream",
     "text": [
      "torch.Size([4, 4])\n",
      "tensor([[ 2.1104,  8.8012, 10.7248, 11.6071],\n",
      "        [ 2.9415,  8.7290, 10.2896, 10.9208],\n",
      "        [ 2.9415,  8.7290, 10.2896, 10.9208],\n",
      "        [ 0.7667,  4.0976,  5.0815,  5.5544]], grad_fn=<AddBackward0>)\n",
      "----------GCN with new aggregate function-------------\n",
      "torch.Size([4, 4])\n",
      "tensor([[ 3.1652,  5.6372, -8.7327, 11.1287],\n",
      "        [ 3.6548,  6.5093, -8.2487, 10.3107],\n",
      "        [ 3.6548,  6.5093, -8.2487, 10.3107],\n",
      "        [ 1.8318,  2.0715, -4.1706,  5.3661]], grad_fn=<AddBackward0>)\n"
     ]
    }
   ],
   "source": [
    "conv = GCNConv(2, 4)\n",
    "convnew = GCNConvnew(2, 4)\n",
    "x = torch.rand(4,2) * 20\n",
    "edge_index = torch.tensor([[0, 1, 1, 2, 0, 2, 0, 3],\n",
    "                           [1, 0, 2, 1, 2, 0, 3, 0]])\n",
    "x_out = conv(x, edge_index)\n",
    "print(x_out.shape)\n",
    "print(x_out)\n",
    "print(\"----------GCN with new aggregate function-------------\")\n",
    "x_out = convnew(x, edge_index)\n",
    "print(x_out.shape)\n",
    "print(x_out)"
   ]
  },
  {
   "cell_type": "code",
   "execution_count": null,
   "id": "5eefc011",
   "metadata": {},
   "outputs": [],
   "source": []
  }
 ],
 "metadata": {
  "kernelspec": {
   "display_name": "GNNpt1.13_cpu",
   "language": "python",
   "name": "gnn"
  },
  "language_info": {
   "codemirror_mode": {
    "name": "ipython",
    "version": 3
   },
   "file_extension": ".py",
   "mimetype": "text/x-python",
   "name": "python",
   "nbconvert_exporter": "python",
   "pygments_lexer": "ipython3",
   "version": "3.8.15"
  }
 },
 "nbformat": 4,
 "nbformat_minor": 5
}
