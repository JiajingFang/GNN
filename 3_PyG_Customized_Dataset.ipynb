{
 "cells": [
  {
   "cell_type": "code",
   "execution_count": 2,
   "id": "31cf19eb",
   "metadata": {},
   "outputs": [],
   "source": [
    "import os\n",
    "import pandas as pd\n",
    "import torch\n",
    "from torch_geometric.data import Data\n",
    "from torch_geometric.data import InMemoryDataset, download_url, extract_gz"
   ]
  },
  {
   "cell_type": "code",
   "execution_count": 5,
   "id": "f7585a63",
   "metadata": {},
   "outputs": [
    {
     "name": "stdout",
     "output_type": "stream",
     "text": [
      "Data(edge_index=[2, 88234], num_nodes=4039)\n",
      "4039\n",
      "88234\n"
     ]
    },
    {
     "name": "stderr",
     "output_type": "stream",
     "text": [
      "Using existing file facebook_combined.txt.gz\n",
      "Extracting tmp/raw/facebook_combined.txt.gz\n",
      "Processing...\n",
      "Done!\n"
     ]
    }
   ],
   "source": [
    "\n",
    "class FB(InMemoryDataset):\n",
    "    url = \"https://snap.stanford.edu/data/facebook_combined.txt.gz\"\n",
    "    \n",
    "    def __init__(self, \n",
    "                 root,\n",
    "                 transform=None,\n",
    "                 pre_transform=None,\n",
    "                 pre_filter=None):\n",
    "        super().__init__(root, transform, pre_transform, pre_filter)\n",
    "        self.data, self.slices = torch.load(self.processed_paths[0])\n",
    "    \n",
    "    @property\n",
    "    def raw_file_names(self):\n",
    "        return[\"facebook_combined.txt\"]\n",
    "    \n",
    "    @property\n",
    "    def processed_file_names(self):\n",
    "        return \"fbdata.pt\"\n",
    "    \n",
    "    def download(self):\n",
    "        path = download_url(self.url, self.raw_dir)\n",
    "        extract_gz(path, self.raw_dir)\n",
    "        \n",
    "    def process(self):\n",
    "#         loading original data\n",
    "        path = os.path.join(self.raw_dir, \"facebook_combined.txt\")\n",
    "        edges = pd.read_csv(path, header=None, delimiter=\" \").values.reshape(2,-1)\n",
    "#         construct new data\n",
    "        edge_index = torch.from_numpy(edges)\n",
    "        g = Data(edge_index=edge_index, num_nodes=4039)\n",
    "        data, slices = self.collate([g])\n",
    "        torch.save((data, slices), self.processed_paths[0])\n",
    "\n",
    "        \n",
    "if __name__ == \"__main__\":\n",
    "    dataset = FB(root=\"tmp\")\n",
    "    data = dataset[0]\n",
    "    print(data)\n",
    "    print(data.num_nodes)\n",
    "    print(data.num_edges)"
   ]
  },
  {
   "cell_type": "code",
   "execution_count": null,
   "id": "05f9604c",
   "metadata": {},
   "outputs": [],
   "source": []
  }
 ],
 "metadata": {
  "kernelspec": {
   "display_name": "GNNpt1.13_cpu",
   "language": "python",
   "name": "gnn"
  },
  "language_info": {
   "codemirror_mode": {
    "name": "ipython",
    "version": 3
   },
   "file_extension": ".py",
   "mimetype": "text/x-python",
   "name": "python",
   "nbconvert_exporter": "python",
   "pygments_lexer": "ipython3",
   "version": "3.8.15"
  }
 },
 "nbformat": 4,
 "nbformat_minor": 5
}
