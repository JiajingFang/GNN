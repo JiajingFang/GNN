{
 "cells": [
  {
   "cell_type": "code",
   "execution_count": 2,
   "id": "91b34957",
   "metadata": {},
   "outputs": [],
   "source": [
    "from torch_sparse import SparseTensor\n",
    "import torch\n",
    "from torch_geometric.utils import to_undirected"
   ]
  },
  {
   "cell_type": "code",
   "execution_count": 4,
   "id": "7e8dd6f1",
   "metadata": {},
   "outputs": [
    {
     "name": "stdout",
     "output_type": "stream",
     "text": [
      "SparseTensor(row=tensor([0, 0, 0, 1, 1, 1, 2, 2, 2, 2, 3, 3, 3, 4, 5, 6]),\n",
      "             col=tensor([1, 2, 3, 0, 2, 5, 0, 1, 3, 4, 0, 2, 6, 2, 1, 3]),\n",
      "             size=(7, 7), nnz=16, density=32.65%)\n"
     ]
    }
   ],
   "source": [
    "# Example of sparse tensor\n",
    "edge_index = torch.LongTensor([[0,0,0,1,2,1,2,3],\n",
    "                               [1,2,3,2,3,5,4,6]])\n",
    "edge_index = to_undirected(edge_index)\n",
    "adj = SparseTensor(row=edge_index[0], col=edge_index[1], sparse_sizes=(7,7))\n",
    "print(adj)"
   ]
  },
  {
   "cell_type": "code",
   "execution_count": 12,
   "id": "e1e504a8",
   "metadata": {},
   "outputs": [
    {
     "name": "stdout",
     "output_type": "stream",
     "text": [
      "SparseTensor(row=tensor([0, 1, 2, 3, 4]),\n",
      "             col=tensor([0, 1, 2, 3, 4]),\n",
      "             val=tensor([1., 1., 1., 1., 1.]),\n",
      "             size=(5, 5), nnz=5, density=20.00%)\n",
      "SparseTensor(row=tensor([0, 1, 2, 3, 4, 5, 6, 7, 8, 9]),\n",
      "             col=tensor([0, 1, 2, 3, 4, 5, 6, 7, 8, 9]),\n",
      "             val=tensor([1., 1., 1., 1., 1., 1., 1., 1., 1., 1.]),\n",
      "             size=(10, 10), nnz=10, density=10.00%)\n"
     ]
    }
   ],
   "source": [
    "# other ways to build SparseTensor\n",
    "mat = torch.eye(5,5)\n",
    "\n",
    "# from dense matrix\n",
    "adj = SparseTensor.from_dense(mat)\n",
    "print(adj)\n",
    "# directly function\n",
    "adj = SparseTensor.eye(10,10)\n",
    "print(adj)\n",
    "# from scipy matrix\n",
    "# adj = SparseTensor.from_scipy(mat)"
   ]
  },
  {
   "cell_type": "markdown",
   "id": "ac5a15ad",
   "metadata": {},
   "source": [
    "<h4>Common Operations for SparseTensor</h4>"
   ]
  },
  {
   "cell_type": "code",
   "execution_count": 18,
   "id": "21f0fe43",
   "metadata": {},
   "outputs": [
    {
     "name": "stdout",
     "output_type": "stream",
     "text": [
      "SparseTensor(row=tensor([0, 0, 0, 1, 1, 2, 2, 3]),\n",
      "             col=tensor([1, 2, 3, 2, 5, 3, 4, 6]),\n",
      "             size=(7, 7), nnz=8, density=16.33%)\n",
      "SparseTensor(row=tensor([0, 0, 0, 1, 2, 2]),\n",
      "             col=tensor([1, 2, 3, 2, 3, 4]),\n",
      "             size=(5, 5), nnz=6, density=24.00%)\n",
      "SparseTensor(row=tensor([0, 0, 0, 0, 1, 1, 2, 2, 2, 3, 4]),\n",
      "             col=tensor([0, 1, 2, 3, 1, 2, 2, 3, 4, 3, 4]),\n",
      "             size=(5, 5), nnz=11, density=44.00%)\n"
     ]
    }
   ],
   "source": [
    "edge_index = torch.LongTensor([[0,0,0,1,2,1,2,3],\n",
    "                               [1,2,3,2,3,5,4,6]])\n",
    "adj = SparseTensor(row=edge_index[0], col=edge_index[1], sparse_sizes=(7,7))\n",
    "print(adj)\n",
    "# slicing\n",
    "adj = adj[:5, :5]\n",
    "print(adj)\n",
    "# add diagol matrix adj + I\n",
    "adj = adj.set_diag()\n",
    "print(adj)\n",
    "# transpose\n",
    "adj_t = adj.t()"
   ]
  },
  {
   "cell_type": "code",
   "execution_count": 30,
   "id": "2b40c7b7",
   "metadata": {},
   "outputs": [
    {
     "name": "stdout",
     "output_type": "stream",
     "text": [
      "torch.Size([5, 4])\n"
     ]
    }
   ],
   "source": [
    "# Sparse Dense matrix multiplicate\n",
    "x = torch.rand(7,4)\n",
    "out = adj.matmul(x)\n",
    "print(out.shape)\n",
    "\n",
    "# Sparse sparse matrix multipicate\n",
    "adj = adj.matmul(adj)"
   ]
  },
  {
   "cell_type": "markdown",
   "id": "14e62ffe",
   "metadata": {},
   "source": [
    "<h4>Another way to build a GCN model with sparse tensor (different from last notebook)</h4>"
   ]
  },
  {
   "cell_type": "code",
   "execution_count": 90,
   "id": "1bbd0c5a",
   "metadata": {},
   "outputs": [],
   "source": [
    "import torch\n",
    "import torch.nn.functional as F\n",
    "import torch.nn as nn\n",
    "from torch_sparse import fill_diag, mul\n",
    "from torch_sparse import sum as sparsesum\n",
    "import torch_geometric.transforms as T\n",
    "from torch_geometric.datasets import Planetoid\n",
    "from copy import deepcopy\n",
    "\n",
    "# GCN normalization for sparse matrix\n",
    "def norm_adj(adj_t, add_self_loops=True):\n",
    "    if not adj_t.has_value():\n",
    "        adj_t = adj_t.fill_value(1.)\n",
    "    if add_self_loops:\n",
    "        adj_t = fill_diag(adj_t, 1.)\n",
    "    deg = sparsesum(adj_t, dim=1)\n",
    "    deg_inv_sqrt = deg.pow_(-0.5)\n",
    "    deg_inv_sqrt.masked_fill_(deg_inv_sqrt == float('inf'), 0)\n",
    "    adj_t = mul(adj_t, deg_inv_sqrt.view(-1,1))\n",
    "    adj_t = mul(adj_t, deg_inv_sqrt.view(1,-1))\n",
    "    return adj_t\n",
    "# A GCN model with 2 GCNconv layers\n",
    "\n",
    "# GCN convolution layer\n",
    "class GCNConv(nn.Module):\n",
    "    def __init__(self, in_feats, out_feats, bias=False) -> None:\n",
    "        super().__init__()\n",
    "        self.lin = nn.Linear(in_feats, out_feats, bias)\n",
    "    \n",
    "    def forward(self, x, adj):\n",
    "        x = self.lin(x)\n",
    "        return adj.matmul(x)\n",
    "\n",
    "# GCN model\n",
    "class GCN(nn.Module):\n",
    "    def __init__(self, in_feats, hidden_size, out_feats) -> None:\n",
    "        super().__init__()\n",
    "        self.gcn_conv1 = GCNConv(in_feats, hidden_size)\n",
    "        self.gcn_conv2 = GCNConv(hidden_size, out_feats)\n",
    "        \n",
    "    def forward(self, x, adj):\n",
    "        x = self.gcn_conv1(x, adj)\n",
    "        x = F.relu(x)\n",
    "        x = self.gcn_conv2(x, adj)\n",
    "        return F.log_softmax(x, dim=1)"
   ]
  },
  {
   "cell_type": "code",
   "execution_count": 93,
   "id": "d03d8b7c",
   "metadata": {},
   "outputs": [
    {
     "name": "stdout",
     "output_type": "stream",
     "text": [
      "Epoch 50 : loss 0.006780944764614105\n",
      "Epoch 100 : loss 0.0019920740742236376\n",
      "Epoch 150 : loss 0.0012212004512548447\n",
      "Epoch 200 : loss 0.0008304963121190667\n",
      "Epoch 250 : loss 0.00060295220464468\n",
      "Epoch 300 : loss 0.0004585929855238646\n",
      "Epoch 350 : loss 0.0003611637803260237\n",
      "Epoch 400 : loss 0.00029215036192908883\n",
      "Epoch 450 : loss 0.00024139074957929552\n",
      "Epoch 500 : loss 0.0002029659372055903\n",
      "Epoch 550 : loss 0.00017314089927822351\n",
      "Epoch 600 : loss 0.00014949150499887764\n",
      "final model accuracy: 0.7760\n"
     ]
    }
   ],
   "source": [
    "# training\n",
    "if __name__ == \"__main__\":\n",
    "    device = torch.device('cuda' if torch.cuda.is_available() else 'cpu')\n",
    "    dataset = Planetoid('temp', name = 'Cora', transform=T.ToSparseTensor())\n",
    "    data = dataset[0].to(device)\n",
    "    model = GCN(in_feats=dataset.num_features, \n",
    "                hidden_size=16, out_feats=dataset.num_classes)\n",
    "    model = model.to(device)\n",
    "    optimizer = torch.optim.Adam(model.parameters(), lr=0.01)\n",
    "    \n",
    "    best_acc, best_model = 0., None\n",
    "    model.train()\n",
    "    for epoch in range(600):\n",
    "        optimizer.zero_grad()\n",
    "        out = model(data.x, norm_adj(data.adj_t))\n",
    "        loss = F.nll_loss(out[data.train_mask], data.y[data.train_mask])\n",
    "        valid_acc = (out[data.val_mask].argmax(dim=1) == data.y[data.val_mask]).sum()\n",
    "        if valid_acc > best_acc:\n",
    "            best_acc = valid_acc\n",
    "            best_model = deepcopy(model)\n",
    "        if (epoch+1) % 50 == 0:\n",
    "            print(f\"Epoch {epoch+1} : loss {loss.item()}\")\n",
    "        loss.backward()\n",
    "        optimizer.step()\n",
    "        \n",
    "    best_model.eval()\n",
    "    pred = best_model(data.x, norm_adj(data.adj_t)).argmax(dim=1)\n",
    "    cor = (pred[data.test_mask] == data.y[data.test_mask]).sum()\n",
    "    acc = int(cor) / int(data.test_mask.sum())\n",
    "    print(f'final model accuracy: {acc:.4f}')"
   ]
  },
  {
   "cell_type": "code",
   "execution_count": null,
   "id": "7777807d",
   "metadata": {},
   "outputs": [],
   "source": []
  }
 ],
 "metadata": {
  "kernelspec": {
   "display_name": "GNNpt1.13_cpu",
   "language": "python",
   "name": "gnn"
  },
  "language_info": {
   "codemirror_mode": {
    "name": "ipython",
    "version": 3
   },
   "file_extension": ".py",
   "mimetype": "text/x-python",
   "name": "python",
   "nbconvert_exporter": "python",
   "pygments_lexer": "ipython3",
   "version": "3.8.15"
  }
 },
 "nbformat": 4,
 "nbformat_minor": 5
}
