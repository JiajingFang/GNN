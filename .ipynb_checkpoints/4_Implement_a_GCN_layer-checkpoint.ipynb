{
 "cells": [
  {
   "cell_type": "code",
   "execution_count": 2,
   "id": "a75d67a5",
   "metadata": {},
   "outputs": [],
   "source": [
    "import torch\n",
    "from torch.nn import Linear, Parameter\n",
    "from torch_geometric.nn import MessagePassing\n",
    "from torch_geometric.utils import degree, add_self_loops"
   ]
  },
  {
   "cell_type": "markdown",
   "id": "e9d79e5f",
   "metadata": {},
   "source": [
    "The GCN layer is defined as:\n",
    "$$ x_{i}^{k} = \\sum_{j \\in N(i) \\cup {i}} \\dfrac{1}{\\sqrt{deg(i)} \\sqrt{deg(j)}} (W^{T} x_{j}^{k-1} + b)$$\n",
    "\n",
    "Step:  \n",
    "1.Add self-loops   \n",
    "2.Linear transform node feature matrix(y = Wx)  \n",
    "3.Compute coefficients (the deg part)  \n",
    "4.Normalize passing node features in message function  \n",
    "5.Sum up neighboring node features (\"add\")  \n",
    "6.Add bias vector\n",
    "\n"
   ]
  },
  {
   "cell_type": "code",
   "execution_count": 10,
   "id": "bf435c5c",
   "metadata": {},
   "outputs": [],
   "source": [
    "class GCNConv(MessagePassing):\n",
    "    def __init__(self, in_channels, out_channels):\n",
    "        super().__init__(aggr=\"add\") #step 5\n",
    "        self.lin = Linear(in_channels, out_channels, bias=False)\n",
    "        self.bias = Parameter(torch.Tensor(out_channels))\n",
    "        \n",
    "        self.reset_parameters()\n",
    "        \n",
    "    def reset_parameters(self):\n",
    "        self.lin.reset_parameters()\n",
    "        self.bias.data.zero_()\n",
    "        \n",
    "    def forward(self, x, edge_index):\n",
    "        #step 1\n",
    "        edge_index, _ = add_self_loops(edge_index, num_nodes=x.size(0))\n",
    "        #step 2\n",
    "        x = self.lin(x)\n",
    "        #step 3\n",
    "        inpoints, outpoints = edge_index[0], edge_index[1]\n",
    "        deg = degree(inpoints, x.size(0), dtype=x.dtype)\n",
    "        deg_inv_sqrt = deg.pow(-0.5)\n",
    "        deg_inv_sqrt[deg_inv_sqrt == float('inf')] = 0\n",
    "        norm = deg_inv_sqrt[inpoints] * deg_inv_sqrt[outpoints]\n",
    "        #step 4 and 5\n",
    "        out = self.propagate(edge_index, x=x, norm=norm)\n",
    "        #step 6\n",
    "        out += self.bias\n",
    "        \n",
    "        return out\n",
    "    \n",
    "    def message(self, x_j, norm):\n",
    "        return norm.view(-1,1) * x_j"
   ]
  },
  {
   "cell_type": "code",
   "execution_count": 11,
   "id": "5711c601",
   "metadata": {},
   "outputs": [
    {
     "name": "stdout",
     "output_type": "stream",
     "text": [
      "torch.Size([4, 32])\n"
     ]
    }
   ],
   "source": [
    "conv = GCNConv(16, 32)\n",
    "x = torch.rand(4,16)\n",
    "edge_index = torch.tensor([[0, 1, 1, 2, 0, 2, 0, 3],\n",
    "                           [1, 0, 2, 1, 2, 0, 3, 0]])\n",
    "x_out = conv(x, edge_index)\n",
    "print(x_out.shape)"
   ]
  },
  {
   "cell_type": "code",
   "execution_count": null,
   "id": "5eefc011",
   "metadata": {},
   "outputs": [],
   "source": []
  }
 ],
 "metadata": {
  "kernelspec": {
   "display_name": "GNNpt1.13_cpu",
   "language": "python",
   "name": "gnn"
  },
  "language_info": {
   "codemirror_mode": {
    "name": "ipython",
    "version": 3
   },
   "file_extension": ".py",
   "mimetype": "text/x-python",
   "name": "python",
   "nbconvert_exporter": "python",
   "pygments_lexer": "ipython3",
   "version": "3.8.15"
  }
 },
 "nbformat": 4,
 "nbformat_minor": 5
}
